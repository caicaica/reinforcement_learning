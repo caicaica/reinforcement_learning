{
 "cells": [
  {
   "cell_type": "code",
   "execution_count": 3,
   "metadata": {
    "collapsed": true
   },
   "outputs": [],
   "source": [
    "%matplotlib inline\n",
    "import sys\n",
    "import ipywidgets as widgets\n",
    "import matplotlib.pyplot as plt\n",
    "import numpy as np\n",
    "from ipywidgets import interact\n",
    "sys.path.append('/Users/matthieule/repos/reinforcement_learning')"
   ]
  },
  {
   "cell_type": "code",
   "execution_count": 4,
   "metadata": {},
   "outputs": [
    {
     "name": "stderr",
     "output_type": "stream",
     "text": [
      "Using TensorFlow backend.\n"
     ]
    }
   ],
   "source": [
    "from dqn.environment import ProcessedEnvironnement\n",
    "from dqn.agent import DQNAgent\n",
    "from dqn.cnn import ConvNet\n",
    "from dqn.history import History"
   ]
  },
  {
   "cell_type": "markdown",
   "metadata": {},
   "source": [
    "# Load the environment"
   ]
  },
  {
   "cell_type": "code",
   "execution_count": 5,
   "metadata": {},
   "outputs": [
    {
     "name": "stderr",
     "output_type": "stream",
     "text": [
      "[2017-07-11 08:50:26,633] Making new env: SpaceInvaders-v0\n"
     ]
    }
   ],
   "source": [
    "env = ProcessedEnvironnement(\n",
    "    'SpaceInvaders-v0', \n",
    "    outdir='/Users/matthieule/temp/random-agent-results'\n",
    ")\n",
    "env.seed(0)"
   ]
  },
  {
   "cell_type": "markdown",
   "metadata": {},
   "source": [
    "# Instantiate the Network / History / Agent classes"
   ]
  },
  {
   "cell_type": "code",
   "execution_count": 6,
   "metadata": {},
   "outputs": [
    {
     "name": "stdout",
     "output_type": "stream",
     "text": [
      "___________________________________________________________________________________________________________________\n",
      "Layer (type)                         Output Shape              Param #       Connected to                          \n",
      "===================================================================================================================\n",
      "input_1 (InputLayer)                 (None, 84, 84, 4)         0                                                   \n",
      "___________________________________________________________________________________________________________________\n",
      "convolution2d_1 (Convolution2D)      (None, 20, 20, 32)        8224          input_1[0][0]                         \n",
      "___________________________________________________________________________________________________________________\n",
      "activation_1 (Activation)            (None, 20, 20, 32)        0             convolution2d_1[0][0]                 \n",
      "___________________________________________________________________________________________________________________\n",
      "convolution2d_2 (Convolution2D)      (None, 9, 9, 64)          32832         activation_1[0][0]                    \n",
      "___________________________________________________________________________________________________________________\n",
      "activation_2 (Activation)            (None, 9, 9, 64)          0             convolution2d_2[0][0]                 \n",
      "___________________________________________________________________________________________________________________\n",
      "convolution2d_3 (Convolution2D)      (None, 7, 7, 64)          36928         activation_2[0][0]                    \n",
      "___________________________________________________________________________________________________________________\n",
      "activation_3 (Activation)            (None, 7, 7, 64)          0             convolution2d_3[0][0]                 \n",
      "___________________________________________________________________________________________________________________\n",
      "flatten_1 (Flatten)                  (None, 3136)              0             activation_3[0][0]                    \n",
      "___________________________________________________________________________________________________________________\n",
      "dense_1 (Dense)                      (None, 512)               1606144       flatten_1[0][0]                       \n",
      "___________________________________________________________________________________________________________________\n",
      "activation_4 (Activation)            (None, 512)               0             dense_1[0][0]                         \n",
      "___________________________________________________________________________________________________________________\n",
      "dense_2 (Dense)                      (None, 6)                 3078          activation_4[0][0]                    \n",
      "===================================================================================================================\n",
      "Total params: 1,687,206\n",
      "Trainable params: 1,687,206\n",
      "Non-trainable params: 0\n",
      "___________________________________________________________________________________________________________________\n"
     ]
    }
   ],
   "source": [
    "weight_fname = '/Users/matthieule/temp/test.h5'\n",
    "ob = env.reset()\n",
    "input_shape = (84, 84, 4)\n",
    "\n",
    "network = ConvNet(\n",
    "    input_shape=input_shape, nbr_action=env.action_space.n, \n",
    "    weight_fname=weight_fname\n",
    ")\n",
    "history = History(\n",
    "    obs_shape=(84, 84, 1), buffer_size=10\n",
    ")\n",
    "agent = DQNAgent(\n",
    "    action_space=env.action_space, network=network,\n",
    "    obs_shape=(84, 84, 1), buffer_size=1000000\n",
    ")"
   ]
  },
  {
   "cell_type": "markdown",
   "metadata": {},
   "source": [
    "# Run a random agent to fill the history buffer"
   ]
  },
  {
   "cell_type": "code",
   "execution_count": 7,
   "metadata": {},
   "outputs": [],
   "source": [
    "reward = 0\n",
    "warm_up_counter = 0\n",
    "action = 0\n",
    "while warm_up_counter < 5000:\n",
    "    ob = env.reset()\n",
    "    done = True\n",
    "    while True:\n",
    "        action = agent.act(\n",
    "            ob, reward, done, random=True, \n",
    "            no_op_max=4, no_op_action=0\n",
    "        )\n",
    "        ob, reward, done, _ = env.step(action)\n",
    "        warm_up_counter += 1\n",
    "        if done:\n",
    "            break"
   ]
  },
  {
   "cell_type": "code",
   "execution_count": 8,
   "metadata": {},
   "outputs": [
    {
     "name": "stdout",
     "output_type": "stream",
     "text": [
      "Size of the history: 5009\n",
      "Shape of the input\n"
     ]
    }
   ],
   "source": [
    "print('Size of the history: {}'.format(len(agent.history.past_obs)))\n",
    "print('Shape of the input'.format(agent.history.past_obs[0].shape))"
   ]
  },
  {
   "cell_type": "markdown",
   "metadata": {},
   "source": [
    "Note the size of the history is bigger than the limit of the warm-up counter because we go to the end of an episode which was started"
   ]
  },
  {
   "cell_type": "code",
   "execution_count": 9,
   "metadata": {},
   "outputs": [
    {
     "data": {
      "application/vnd.jupyter.widget-view+json": {
       "model_id": "a12b7bef30d74136b86e0b765b024841"
      }
     },
     "metadata": {},
     "output_type": "display_data"
    }
   ],
   "source": [
    "fontsize = 18\n",
    "index = 2000\n",
    "\n",
    "history_size = len(agent.history.past_obs)-1\n",
    "end_episode_example = np.argmin(agent.history.past_rewards)\n",
    "@interact(index=widgets.IntSlider(\n",
    "    min=0, max=history_size, step=1, \n",
    "    value=end_episode_example\n",
    "))\n",
    "def plot_history(index):\n",
    "    \n",
    "    f, axs = plt.subplots(1, 1, figsize=(5, 5))\n",
    "\n",
    "    axs.imshow(agent.history.past_obs[index][..., 0], cmap='gray')\n",
    "    axs.set_title(\n",
    "        'action: {} / reward: {} / done: {}'.format(\n",
    "            agent.history.past_actions[index],\n",
    "            agent.history.past_rewards[index],\n",
    "            agent.history.past_done[index]\n",
    "        ),\n",
    "        fontsize=12\n",
    "    )\n",
    "    plt.show()"
   ]
  },
  {
   "cell_type": "code",
   "execution_count": 10,
   "metadata": {},
   "outputs": [
    {
     "data": {
      "text/plain": [
       "<matplotlib.text.Text at 0x11ec1bb50>"
      ]
     },
     "execution_count": 10,
     "metadata": {},
     "output_type": "execute_result"
    },
    {
     "data": {
      "image/png": "[encoded data removed]",
      "text/plain": [
       "<matplotlib.figure.Figure at 0x11e3ddf90>"
      ]
     },
     "metadata": {},
     "output_type": "display_data"
    }
   ],
   "source": [
    "plt.hist(agent.history.past_actions)\n",
    "plt.title('Histogram of the taken action')"
   ]
  },
  {
   "cell_type": "code",
   "execution_count": 11,
   "metadata": {},
   "outputs": [
    {
     "data": {
      "text/plain": [
       "<matplotlib.text.Text at 0x11e507f90>"
      ]
     },
     "execution_count": 11,
     "metadata": {},
     "output_type": "execute_result"
    },
    {
     "data": {
      "image/png": "[encoded data removed]",
      "text/plain": [
       "<matplotlib.figure.Figure at 0x11e578150>"
      ]
     },
     "metadata": {},
     "output_type": "display_data"
    }
   ],
   "source": [
    "plt.hist(agent.history.past_rewards)\n",
    "plt.title('Histogram of the rewards')"
   ]
  },
  {
   "cell_type": "code",
   "execution_count": 12,
   "metadata": {},
   "outputs": [
    {
     "data": {
      "text/plain": [
       "<matplotlib.text.Text at 0x11990bc10>"
      ]
     },
     "execution_count": 12,
     "metadata": {},
     "output_type": "execute_result"
    },
    {
     "data": {
      "image/png": "[encoded data removed]",
      "text/plain": [
       "<matplotlib.figure.Figure at 0x11e6be650>"
      ]
     },
     "metadata": {},
     "output_type": "display_data"
    }
   ],
   "source": [
    "plt.hist(agent.history.past_done)\n",
    "plt.title('Histogram of the terminated episode events')"
   ]
  },
  {
   "cell_type": "code",
   "execution_count": null,
   "metadata": {
    "collapsed": true
   },
   "outputs": [],
   "source": []
  }
 ],
 "metadata": {
  "kernelspec": {
   "display_name": "Python 2",
   "language": "python",
   "name": "python2"
  },
  "language_info": {
   "codemirror_mode": {
    "name": "ipython",
    "version": 2
   },
   "file_extension": ".py",
   "mimetype": "text/x-python",
   "name": "python",
   "nbconvert_exporter": "python",
   "pygments_lexer": "ipython2",
   "version": "2.7.12"
  }
 },
 "nbformat": 4,
 "nbformat_minor": 2
}
